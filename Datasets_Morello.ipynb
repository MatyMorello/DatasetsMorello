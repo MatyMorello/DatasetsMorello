{
  "nbformat": 4,
  "nbformat_minor": 0,
  "metadata": {
    "colab": {
      "provenance": []
    },
    "kernelspec": {
      "name": "python3",
      "display_name": "Python 3"
    },
    "language_info": {
      "name": "python"
    }
  },
  "cells": [
    {
      "cell_type": "code",
      "execution_count": null,
      "metadata": {
        "id": "w6JnWh_I_TFz"
      },
      "outputs": [],
      "source": [
        "from google.colab import files\n",
        "import pandas as pd\n",
        "\n",
        "# Subir el archivo manualmente\n",
        "uploaded = files.upload()\n",
        "\n",
        "# Cargar el dataset en un DataFrame de Pandas\n",
        "df = pd.read_csv('Gun_Violence_Data_V1.csv')\n",
        "\n",
        "# Mostrar las primeras filas\n",
        "print(df.head())\n"
      ]
    },
    {
      "cell_type": "code",
      "source": [
        "from google.colab import files\n",
        "import pandas as pd\n",
        "\n",
        "# Subir el archivo manualmente\n",
        "uploaded = files.upload()\n",
        "\n",
        "# Cargar el dataset en un DataFrame de Pandas\n",
        "df = pd.read_csv('train.csv')\n",
        "\n",
        "# Mostrar las primeras filas\n",
        "print(df.head())"
      ],
      "metadata": {
        "id": "jYefSSyEEx5T"
      },
      "execution_count": null,
      "outputs": []
    },
    {
      "cell_type": "code",
      "source": [
        "from google.colab import files\n",
        "import pandas as pd\n",
        "\n",
        "# Subir el archivo manualmente\n",
        "uploaded = files.upload()\n",
        "\n",
        "# Cargar el dataset en un DataFrame de Pandas\n",
        "df = pd.read_csv('US_Accidents_Dec21_V1.csv')\n",
        "\n",
        "# Mostrar las primeras filas\n",
        "print(df.head())"
      ],
      "metadata": {
        "id": "2SQFTvZoE1vK"
      },
      "execution_count": null,
      "outputs": []
    }
  ]
}